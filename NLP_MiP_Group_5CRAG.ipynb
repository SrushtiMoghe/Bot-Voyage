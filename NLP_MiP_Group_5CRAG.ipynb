{
 "cells": [
  {
   "cell_type": "code",
   "execution_count": 1,
   "id": "18decea1-8639-4b1e-8b6f-f5e4db77c7aa",
   "metadata": {},
   "outputs": [
    {
     "name": "stdout",
     "output_type": "stream",
     "text": [
      "Requirement already satisfied: langchain in c:\\users\\user\\.anaconda\\.new\\lib\\site-packages (0.3.20)\n",
      "Requirement already satisfied: langchain-openai in c:\\users\\user\\.anaconda\\.new\\lib\\site-packages (0.3.7)\n",
      "Requirement already satisfied: langchain-groq in c:\\users\\user\\.anaconda\\.new\\lib\\site-packages (0.2.4)\n",
      "Requirement already satisfied: openai in c:\\users\\user\\.anaconda\\.new\\lib\\site-packages (1.65.3)\n",
      "Collecting openai\n",
      "  Downloading openai-1.65.4-py3-none-any.whl.metadata (27 kB)\n",
      "Requirement already satisfied: pymupdf in c:\\users\\user\\.anaconda\\.new\\lib\\site-packages (1.25.3)\n",
      "Requirement already satisfied: spacy in c:\\users\\user\\.anaconda\\.new\\lib\\site-packages (3.8.4)\n",
      "Requirement already satisfied: chromadb in c:\\users\\user\\.anaconda\\.new\\lib\\site-packages (0.6.3)\n",
      "Requirement already satisfied: langchain-core<1.0.0,>=0.3.41 in c:\\users\\user\\.anaconda\\.new\\lib\\site-packages (from langchain) (0.3.41)\n",
      "Requirement already satisfied: langchain-text-splitters<1.0.0,>=0.3.6 in c:\\users\\user\\.anaconda\\.new\\lib\\site-packages (from langchain) (0.3.6)\n",
      "Requirement already satisfied: langsmith<0.4,>=0.1.17 in c:\\users\\user\\.anaconda\\.new\\lib\\site-packages (from langchain) (0.3.11)\n",
      "Requirement already satisfied: pydantic<3.0.0,>=2.7.4 in c:\\users\\user\\.anaconda\\.new\\lib\\site-packages (from langchain) (2.10.6)\n",
      "Requirement already satisfied: SQLAlchemy<3,>=1.4 in c:\\users\\user\\.anaconda\\.new\\lib\\site-packages (from langchain) (2.0.25)\n",
      "Requirement already satisfied: requests<3,>=2 in c:\\users\\user\\.anaconda\\.new\\lib\\site-packages (from langchain) (2.31.0)\n",
      "Requirement already satisfied: PyYAML>=5.3 in c:\\users\\user\\.anaconda\\.new\\lib\\site-packages (from langchain) (6.0.1)\n",
      "Requirement already satisfied: tiktoken<1,>=0.7 in c:\\users\\user\\.anaconda\\.new\\lib\\site-packages (from langchain-openai) (0.9.0)\n",
      "Requirement already satisfied: groq<1,>=0.4.1 in c:\\users\\user\\.anaconda\\.new\\lib\\site-packages (from langchain-groq) (0.18.0)\n",
      "Requirement already satisfied: anyio<5,>=3.5.0 in c:\\users\\user\\.anaconda\\.new\\lib\\site-packages (from openai) (4.2.0)\n",
      "Requirement already satisfied: distro<2,>=1.7.0 in c:\\users\\user\\.anaconda\\.new\\lib\\site-packages (from openai) (1.8.0)\n",
      "Requirement already satisfied: httpx<1,>=0.23.0 in c:\\users\\user\\.anaconda\\.new\\lib\\site-packages (from openai) (0.28.1)\n",
      "Requirement already satisfied: jiter<1,>=0.4.0 in c:\\users\\user\\.anaconda\\.new\\lib\\site-packages (from openai) (0.8.2)\n",
      "Requirement already satisfied: sniffio in c:\\users\\user\\.anaconda\\.new\\lib\\site-packages (from openai) (1.3.0)\n",
      "Requirement already satisfied: tqdm>4 in c:\\users\\user\\.anaconda\\.new\\lib\\site-packages (from openai) (4.65.0)\n",
      "Requirement already satisfied: typing-extensions<5,>=4.11 in c:\\users\\user\\.anaconda\\.new\\lib\\site-packages (from openai) (4.12.2)\n",
      "Requirement already satisfied: spacy-legacy<3.1.0,>=3.0.11 in c:\\users\\user\\.anaconda\\.new\\lib\\site-packages (from spacy) (3.0.12)\n",
      "Requirement already satisfied: spacy-loggers<2.0.0,>=1.0.0 in c:\\users\\user\\.anaconda\\.new\\lib\\site-packages (from spacy) (1.0.5)\n",
      "Requirement already satisfied: murmurhash<1.1.0,>=0.28.0 in c:\\users\\user\\.anaconda\\.new\\lib\\site-packages (from spacy) (1.0.12)\n",
      "Requirement already satisfied: cymem<2.1.0,>=2.0.2 in c:\\users\\user\\.anaconda\\.new\\lib\\site-packages (from spacy) (2.0.11)\n",
      "Requirement already satisfied: preshed<3.1.0,>=3.0.2 in c:\\users\\user\\.anaconda\\.new\\lib\\site-packages (from spacy) (3.0.9)\n",
      "Requirement already satisfied: thinc<8.4.0,>=8.3.4 in c:\\users\\user\\.anaconda\\.new\\lib\\site-packages (from spacy) (8.3.4)\n",
      "Requirement already satisfied: wasabi<1.2.0,>=0.9.1 in c:\\users\\user\\.anaconda\\.new\\lib\\site-packages (from spacy) (1.1.3)\n",
      "Requirement already satisfied: srsly<3.0.0,>=2.4.3 in c:\\users\\user\\.anaconda\\.new\\lib\\site-packages (from spacy) (2.5.1)\n",
      "Requirement already satisfied: catalogue<2.1.0,>=2.0.6 in c:\\users\\user\\.anaconda\\.new\\lib\\site-packages (from spacy) (2.0.10)\n",
      "Requirement already satisfied: weasel<0.5.0,>=0.1.0 in c:\\users\\user\\.anaconda\\.new\\lib\\site-packages (from spacy) (0.4.1)\n",
      "Requirement already satisfied: typer<1.0.0,>=0.3.0 in c:\\users\\user\\.anaconda\\.new\\lib\\site-packages (from spacy) (0.15.2)\n",
      "Requirement already satisfied: numpy>=1.19.0 in c:\\users\\user\\.anaconda\\.new\\lib\\site-packages (from spacy) (1.26.4)\n",
      "Requirement already satisfied: jinja2 in c:\\users\\user\\.anaconda\\.new\\lib\\site-packages (from spacy) (3.1.3)\n",
      "Requirement already satisfied: setuptools in c:\\users\\user\\.anaconda\\.new\\lib\\site-packages (from spacy) (68.2.2)\n",
      "Requirement already satisfied: packaging>=20.0 in c:\\users\\user\\.anaconda\\.new\\lib\\site-packages (from spacy) (24.2)\n",
      "Requirement already satisfied: langcodes<4.0.0,>=3.2.0 in c:\\users\\user\\.anaconda\\.new\\lib\\site-packages (from spacy) (3.5.0)\n",
      "Requirement already satisfied: build>=1.0.3 in c:\\users\\user\\.anaconda\\.new\\lib\\site-packages (from chromadb) (1.2.2.post1)\n",
      "Requirement already satisfied: chroma-hnswlib==0.7.6 in c:\\users\\user\\.anaconda\\.new\\lib\\site-packages (from chromadb) (0.7.6)\n",
      "Requirement already satisfied: fastapi>=0.95.2 in c:\\users\\user\\.anaconda\\.new\\lib\\site-packages (from chromadb) (0.115.11)\n",
      "Requirement already satisfied: uvicorn>=0.18.3 in c:\\users\\user\\.anaconda\\.new\\lib\\site-packages (from uvicorn[standard]>=0.18.3->chromadb) (0.34.0)\n",
      "Requirement already satisfied: posthog>=2.4.0 in c:\\users\\user\\.anaconda\\.new\\lib\\site-packages (from chromadb) (3.18.1)\n",
      "Requirement already satisfied: onnxruntime>=1.14.1 in c:\\users\\user\\.anaconda\\.new\\lib\\site-packages (from chromadb) (1.20.1)\n",
      "Requirement already satisfied: opentelemetry-api>=1.2.0 in c:\\users\\user\\.anaconda\\.new\\lib\\site-packages (from chromadb) (1.30.0)\n",
      "Requirement already satisfied: opentelemetry-exporter-otlp-proto-grpc>=1.2.0 in c:\\users\\user\\.anaconda\\.new\\lib\\site-packages (from chromadb) (1.30.0)\n",
      "Requirement already satisfied: opentelemetry-instrumentation-fastapi>=0.41b0 in c:\\users\\user\\.anaconda\\.new\\lib\\site-packages (from chromadb) (0.51b0)\n",
      "Requirement already satisfied: opentelemetry-sdk>=1.2.0 in c:\\users\\user\\.anaconda\\.new\\lib\\site-packages (from chromadb) (1.30.0)\n",
      "Requirement already satisfied: tokenizers>=0.13.2 in c:\\users\\user\\.anaconda\\.new\\lib\\site-packages (from chromadb) (0.21.0)\n",
      "Requirement already satisfied: pypika>=0.48.9 in c:\\users\\user\\.anaconda\\.new\\lib\\site-packages (from chromadb) (0.48.9)\n",
      "Requirement already satisfied: overrides>=7.3.1 in c:\\users\\user\\.anaconda\\.new\\lib\\site-packages (from chromadb) (7.4.0)\n",
      "Requirement already satisfied: importlib-resources in c:\\users\\user\\.anaconda\\.new\\lib\\site-packages (from chromadb) (6.5.2)\n",
      "Requirement already satisfied: grpcio>=1.58.0 in c:\\users\\user\\.anaconda\\.new\\lib\\site-packages (from chromadb) (1.66.1)\n",
      "Requirement already satisfied: bcrypt>=4.0.1 in c:\\users\\user\\.anaconda\\.new\\lib\\site-packages (from chromadb) (4.3.0)\n",
      "Requirement already satisfied: kubernetes>=28.1.0 in c:\\users\\user\\.anaconda\\.new\\lib\\site-packages (from chromadb) (32.0.1)\n",
      "Requirement already satisfied: tenacity>=8.2.3 in c:\\users\\user\\.anaconda\\.new\\lib\\site-packages (from chromadb) (9.0.0)\n",
      "Requirement already satisfied: mmh3>=4.0.1 in c:\\users\\user\\.anaconda\\.new\\lib\\site-packages (from chromadb) (5.1.0)\n",
      "Requirement already satisfied: orjson>=3.9.12 in c:\\users\\user\\.anaconda\\.new\\lib\\site-packages (from chromadb) (3.10.15)\n",
      "Requirement already satisfied: rich>=10.11.0 in c:\\users\\user\\.anaconda\\.new\\lib\\site-packages (from chromadb) (13.3.5)\n",
      "Requirement already satisfied: idna>=2.8 in c:\\users\\user\\.anaconda\\.new\\lib\\site-packages (from anyio<5,>=3.5.0->openai) (3.4)\n",
      "Requirement already satisfied: pyproject_hooks in c:\\users\\user\\.anaconda\\.new\\lib\\site-packages (from build>=1.0.3->chromadb) (1.2.0)\n",
      "Requirement already satisfied: colorama in c:\\users\\user\\.anaconda\\.new\\lib\\site-packages (from build>=1.0.3->chromadb) (0.4.6)\n",
      "Requirement already satisfied: starlette<0.47.0,>=0.40.0 in c:\\users\\user\\.anaconda\\.new\\lib\\site-packages (from fastapi>=0.95.2->chromadb) (0.46.0)\n",
      "Requirement already satisfied: certifi in c:\\users\\user\\.anaconda\\.new\\lib\\site-packages (from httpx<1,>=0.23.0->openai) (2025.1.31)\n",
      "Requirement already satisfied: httpcore==1.* in c:\\users\\user\\.anaconda\\.new\\lib\\site-packages (from httpx<1,>=0.23.0->openai) (1.0.7)\n",
      "Requirement already satisfied: h11<0.15,>=0.13 in c:\\users\\user\\.anaconda\\.new\\lib\\site-packages (from httpcore==1.*->httpx<1,>=0.23.0->openai) (0.14.0)\n",
      "Requirement already satisfied: six>=1.9.0 in c:\\users\\user\\.anaconda\\.new\\lib\\site-packages (from kubernetes>=28.1.0->chromadb) (1.16.0)\n",
      "Requirement already satisfied: python-dateutil>=2.5.3 in c:\\users\\user\\.anaconda\\.new\\lib\\site-packages (from kubernetes>=28.1.0->chromadb) (2.8.2)\n",
      "Requirement already satisfied: google-auth>=1.0.1 in c:\\users\\user\\.anaconda\\.new\\lib\\site-packages (from kubernetes>=28.1.0->chromadb) (2.38.0)\n",
      "Requirement already satisfied: websocket-client!=0.40.0,!=0.41.*,!=0.42.*,>=0.32.0 in c:\\users\\user\\.anaconda\\.new\\lib\\site-packages (from kubernetes>=28.1.0->chromadb) (0.58.0)\n",
      "Requirement already satisfied: requests-oauthlib in c:\\users\\user\\.anaconda\\.new\\lib\\site-packages (from kubernetes>=28.1.0->chromadb) (2.0.0)\n",
      "Requirement already satisfied: oauthlib>=3.2.2 in c:\\users\\user\\.anaconda\\.new\\lib\\site-packages (from kubernetes>=28.1.0->chromadb) (3.2.2)\n",
      "Requirement already satisfied: urllib3>=1.24.2 in c:\\users\\user\\.anaconda\\.new\\lib\\site-packages (from kubernetes>=28.1.0->chromadb) (2.0.7)\n",
      "Requirement already satisfied: durationpy>=0.7 in c:\\users\\user\\.anaconda\\.new\\lib\\site-packages (from kubernetes>=28.1.0->chromadb) (0.9)\n",
      "Requirement already satisfied: jsonpatch<2.0,>=1.33 in c:\\users\\user\\.anaconda\\.new\\lib\\site-packages (from langchain-core<1.0.0,>=0.3.41->langchain) (1.33)\n",
      "Requirement already satisfied: language-data>=1.2 in c:\\users\\user\\.anaconda\\.new\\lib\\site-packages (from langcodes<4.0.0,>=3.2.0->spacy) (1.3.0)\n",
      "Requirement already satisfied: requests-toolbelt<2.0.0,>=1.0.0 in c:\\users\\user\\.anaconda\\.new\\lib\\site-packages (from langsmith<0.4,>=0.1.17->langchain) (1.0.0)\n",
      "Requirement already satisfied: zstandard<0.24.0,>=0.23.0 in c:\\users\\user\\.anaconda\\.new\\lib\\site-packages (from langsmith<0.4,>=0.1.17->langchain) (0.23.0)\n",
      "Requirement already satisfied: coloredlogs in c:\\users\\user\\.anaconda\\.new\\lib\\site-packages (from onnxruntime>=1.14.1->chromadb) (15.0.1)\n",
      "Requirement already satisfied: flatbuffers in c:\\users\\user\\.anaconda\\.new\\lib\\site-packages (from onnxruntime>=1.14.1->chromadb) (24.3.25)\n",
      "Requirement already satisfied: protobuf in c:\\users\\user\\.anaconda\\.new\\lib\\site-packages (from onnxruntime>=1.14.1->chromadb) (5.29.3)\n",
      "Requirement already satisfied: sympy in c:\\users\\user\\.anaconda\\.new\\lib\\site-packages (from onnxruntime>=1.14.1->chromadb) (1.13.1)\n",
      "Requirement already satisfied: deprecated>=1.2.6 in c:\\users\\user\\.anaconda\\.new\\lib\\site-packages (from opentelemetry-api>=1.2.0->chromadb) (1.2.18)\n",
      "Requirement already satisfied: importlib-metadata<=8.5.0,>=6.0 in c:\\users\\user\\.anaconda\\.new\\lib\\site-packages (from opentelemetry-api>=1.2.0->chromadb) (7.0.1)\n",
      "Requirement already satisfied: googleapis-common-protos~=1.52 in c:\\users\\user\\.anaconda\\.new\\lib\\site-packages (from opentelemetry-exporter-otlp-proto-grpc>=1.2.0->chromadb) (1.69.0)\n",
      "Requirement already satisfied: opentelemetry-exporter-otlp-proto-common==1.30.0 in c:\\users\\user\\.anaconda\\.new\\lib\\site-packages (from opentelemetry-exporter-otlp-proto-grpc>=1.2.0->chromadb) (1.30.0)\n",
      "Requirement already satisfied: opentelemetry-proto==1.30.0 in c:\\users\\user\\.anaconda\\.new\\lib\\site-packages (from opentelemetry-exporter-otlp-proto-grpc>=1.2.0->chromadb) (1.30.0)\n",
      "Requirement already satisfied: opentelemetry-instrumentation-asgi==0.51b0 in c:\\users\\user\\.anaconda\\.new\\lib\\site-packages (from opentelemetry-instrumentation-fastapi>=0.41b0->chromadb) (0.51b0)\n",
      "Requirement already satisfied: opentelemetry-instrumentation==0.51b0 in c:\\users\\user\\.anaconda\\.new\\lib\\site-packages (from opentelemetry-instrumentation-fastapi>=0.41b0->chromadb) (0.51b0)\n",
      "Requirement already satisfied: opentelemetry-semantic-conventions==0.51b0 in c:\\users\\user\\.anaconda\\.new\\lib\\site-packages (from opentelemetry-instrumentation-fastapi>=0.41b0->chromadb) (0.51b0)\n",
      "Requirement already satisfied: opentelemetry-util-http==0.51b0 in c:\\users\\user\\.anaconda\\.new\\lib\\site-packages (from opentelemetry-instrumentation-fastapi>=0.41b0->chromadb) (0.51b0)\n",
      "Requirement already satisfied: wrapt<2.0.0,>=1.0.0 in c:\\users\\user\\.anaconda\\.new\\lib\\site-packages (from opentelemetry-instrumentation==0.51b0->opentelemetry-instrumentation-fastapi>=0.41b0->chromadb) (1.14.1)\n",
      "Requirement already satisfied: asgiref~=3.0 in c:\\users\\user\\.anaconda\\.new\\lib\\site-packages (from opentelemetry-instrumentation-asgi==0.51b0->opentelemetry-instrumentation-fastapi>=0.41b0->chromadb) (3.8.1)\n",
      "Requirement already satisfied: monotonic>=1.5 in c:\\users\\user\\.anaconda\\.new\\lib\\site-packages (from posthog>=2.4.0->chromadb) (1.6)\n",
      "Requirement already satisfied: backoff>=1.10.0 in c:\\users\\user\\.anaconda\\.new\\lib\\site-packages (from posthog>=2.4.0->chromadb) (2.2.1)\n",
      "Requirement already satisfied: annotated-types>=0.6.0 in c:\\users\\user\\.anaconda\\.new\\lib\\site-packages (from pydantic<3.0.0,>=2.7.4->langchain) (0.7.0)\n",
      "Requirement already satisfied: pydantic-core==2.27.2 in c:\\users\\user\\.anaconda\\.new\\lib\\site-packages (from pydantic<3.0.0,>=2.7.4->langchain) (2.27.2)\n",
      "Requirement already satisfied: charset-normalizer<4,>=2 in c:\\users\\user\\.anaconda\\.new\\lib\\site-packages (from requests<3,>=2->langchain) (2.0.4)\n",
      "Requirement already satisfied: markdown-it-py<3.0.0,>=2.2.0 in c:\\users\\user\\.anaconda\\.new\\lib\\site-packages (from rich>=10.11.0->chromadb) (2.2.0)\n",
      "Requirement already satisfied: pygments<3.0.0,>=2.13.0 in c:\\users\\user\\.anaconda\\.new\\lib\\site-packages (from rich>=10.11.0->chromadb) (2.15.1)\n",
      "Requirement already satisfied: greenlet!=0.4.17 in c:\\users\\user\\.anaconda\\.new\\lib\\site-packages (from SQLAlchemy<3,>=1.4->langchain) (3.0.1)\n",
      "Requirement already satisfied: blis<1.3.0,>=1.2.0 in c:\\users\\user\\.anaconda\\.new\\lib\\site-packages (from thinc<8.4.0,>=8.3.4->spacy) (1.2.0)\n",
      "Requirement already satisfied: confection<1.0.0,>=0.0.1 in c:\\users\\user\\.anaconda\\.new\\lib\\site-packages (from thinc<8.4.0,>=8.3.4->spacy) (0.1.5)\n",
      "Requirement already satisfied: regex>=2022.1.18 in c:\\users\\user\\.anaconda\\.new\\lib\\site-packages (from tiktoken<1,>=0.7->langchain-openai) (2023.10.3)\n",
      "Requirement already satisfied: huggingface-hub<1.0,>=0.16.4 in c:\\users\\user\\.anaconda\\.new\\lib\\site-packages (from tokenizers>=0.13.2->chromadb) (0.29.1)\n",
      "Requirement already satisfied: click>=8.0.0 in c:\\users\\user\\.anaconda\\.new\\lib\\site-packages (from typer<1.0.0,>=0.3.0->spacy) (8.1.7)\n",
      "Requirement already satisfied: shellingham>=1.3.0 in c:\\users\\user\\.anaconda\\.new\\lib\\site-packages (from typer<1.0.0,>=0.3.0->spacy) (1.5.4)\n",
      "Requirement already satisfied: httptools>=0.6.3 in c:\\users\\user\\.anaconda\\.new\\lib\\site-packages (from uvicorn[standard]>=0.18.3->chromadb) (0.6.4)\n",
      "Requirement already satisfied: python-dotenv>=0.13 in c:\\users\\user\\.anaconda\\.new\\lib\\site-packages (from uvicorn[standard]>=0.18.3->chromadb) (1.0.1)\n",
      "Requirement already satisfied: watchfiles>=0.13 in c:\\users\\user\\.anaconda\\.new\\lib\\site-packages (from uvicorn[standard]>=0.18.3->chromadb) (1.0.4)\n",
      "Requirement already satisfied: websockets>=10.4 in c:\\users\\user\\.anaconda\\.new\\lib\\site-packages (from uvicorn[standard]>=0.18.3->chromadb) (15.0)\n",
      "Requirement already satisfied: cloudpathlib<1.0.0,>=0.7.0 in c:\\users\\user\\.anaconda\\.new\\lib\\site-packages (from weasel<0.5.0,>=0.1.0->spacy) (0.21.0)\n",
      "Requirement already satisfied: smart-open<8.0.0,>=5.2.1 in c:\\users\\user\\.anaconda\\.new\\lib\\site-packages (from weasel<0.5.0,>=0.1.0->spacy) (5.2.1)\n",
      "Requirement already satisfied: MarkupSafe>=2.0 in c:\\users\\user\\.anaconda\\.new\\lib\\site-packages (from jinja2->spacy) (2.1.3)\n",
      "Requirement already satisfied: cachetools<6.0,>=2.0.0 in c:\\users\\user\\.anaconda\\.new\\lib\\site-packages (from google-auth>=1.0.1->kubernetes>=28.1.0->chromadb) (4.2.2)\n",
      "Requirement already satisfied: pyasn1-modules>=0.2.1 in c:\\users\\user\\.anaconda\\.new\\lib\\site-packages (from google-auth>=1.0.1->kubernetes>=28.1.0->chromadb) (0.2.8)\n",
      "Requirement already satisfied: rsa<5,>=3.1.4 in c:\\users\\user\\.anaconda\\.new\\lib\\site-packages (from google-auth>=1.0.1->kubernetes>=28.1.0->chromadb) (4.9)\n",
      "Requirement already satisfied: filelock in c:\\users\\user\\.anaconda\\.new\\lib\\site-packages (from huggingface-hub<1.0,>=0.16.4->tokenizers>=0.13.2->chromadb) (3.13.1)\n",
      "Requirement already satisfied: fsspec>=2023.5.0 in c:\\users\\user\\.anaconda\\.new\\lib\\site-packages (from huggingface-hub<1.0,>=0.16.4->tokenizers>=0.13.2->chromadb) (2023.10.0)\n",
      "Requirement already satisfied: zipp>=0.5 in c:\\users\\user\\.anaconda\\.new\\lib\\site-packages (from importlib-metadata<=8.5.0,>=6.0->opentelemetry-api>=1.2.0->chromadb) (3.17.0)\n",
      "Requirement already satisfied: jsonpointer>=1.9 in c:\\users\\user\\.anaconda\\.new\\lib\\site-packages (from jsonpatch<2.0,>=1.33->langchain-core<1.0.0,>=0.3.41->langchain) (2.1)\n",
      "Requirement already satisfied: marisa-trie>=1.1.0 in c:\\users\\user\\.anaconda\\.new\\lib\\site-packages (from language-data>=1.2->langcodes<4.0.0,>=3.2.0->spacy) (1.2.1)\n",
      "Requirement already satisfied: mdurl~=0.1 in c:\\users\\user\\.anaconda\\.new\\lib\\site-packages (from markdown-it-py<3.0.0,>=2.2.0->rich>=10.11.0->chromadb) (0.1.0)\n",
      "Requirement already satisfied: humanfriendly>=9.1 in c:\\users\\user\\.anaconda\\.new\\lib\\site-packages (from coloredlogs->onnxruntime>=1.14.1->chromadb) (10.0)\n",
      "Requirement already satisfied: mpmath<1.4,>=1.1.0 in c:\\users\\user\\.anaconda\\.new\\lib\\site-packages (from sympy->onnxruntime>=1.14.1->chromadb) (1.3.0)\n",
      "Requirement already satisfied: pyreadline3 in c:\\users\\user\\.anaconda\\.new\\lib\\site-packages (from humanfriendly>=9.1->coloredlogs->onnxruntime>=1.14.1->chromadb) (3.5.4)\n",
      "Requirement already satisfied: pyasn1<0.5.0,>=0.4.6 in c:\\users\\user\\.anaconda\\.new\\lib\\site-packages (from pyasn1-modules>=0.2.1->google-auth>=1.0.1->kubernetes>=28.1.0->chromadb) (0.4.8)\n",
      "Downloading openai-1.65.4-py3-none-any.whl (473 kB)\n",
      "Installing collected packages: openai\n",
      "  Attempting uninstall: openai\n",
      "    Found existing installation: openai 1.65.3\n",
      "    Uninstalling openai-1.65.3:\n",
      "      Successfully uninstalled openai-1.65.3\n",
      "Successfully installed openai-1.65.4\n"
     ]
    },
    {
     "name": "stderr",
     "output_type": "stream",
     "text": [
      "\n",
      "[notice] A new release of pip is available: 25.0 -> 25.0.1\n",
      "[notice] To update, run: python.exe -m pip install --upgrade pip\n"
     ]
    }
   ],
   "source": [
    "!pip install -U langchain langchain-openai langchain-groq openai pymupdf spacy chromadb"
   ]
  },
  {
   "cell_type": "markdown",
   "id": "4afde3be-b450-4eba-bf96-3e6b6753371b",
   "metadata": {},
   "source": [
    "The code sets up the CRAG framework by:\n",
    "- Importing Libraries: Loading critical libraries for document processing, embeddings, and model interactions.\n",
    "- API Key Setup: Storing API keys for LangSmith and Groq services securely.\n",
    "- Model Initialization: Initializing the LLaMA 3 model for response generation.\n",
    "- Embeddings & Vector Store: Utilizing HuggingFaceEmbeddings to transform text into numerical vectors and storing them in Chroma for optimized document retrieval."
   ]
  },
  {
   "cell_type": "code",
   "execution_count": 2,
   "id": "537f516e-ef90-4c78-a3c0-2108fa6eefe9",
   "metadata": {},
   "outputs": [
    {
     "name": "stderr",
     "output_type": "stream",
     "text": [
      "C:\\Users\\User\\.anaconda\\.new\\Lib\\site-packages\\torch\\utils\\_pytree.py:185: FutureWarning: optree is installed but the version is too old to support PyTorch Dynamo in C++ pytree. C++ pytree support is disabled. Please consider upgrading optree using `python3 -m pip install --upgrade 'optree>=0.13.0'`.\n",
      "  warnings.warn(\n"
     ]
    },
    {
     "name": "stdin",
     "output_type": "stream",
     "text": [
      "Enter LangSmith API Key:  ········\n",
      "Enter API key for Groq:  ········\n"
     ]
    }
   ],
   "source": [
    "import getpass\n",
    "import os\n",
    "from langchain.chat_models import init_chat_model\n",
    "from langchain.embeddings import HuggingFaceEmbeddings\n",
    "from langchain.vectorstores import Chroma\n",
    "from langchain_community.document_loaders import PyMuPDFLoader\n",
    "from langchain_text_splitters import RecursiveCharacterTextSplitter\n",
    "from langchain_core.documents import Document\n",
    "import spacy\n",
    "import re\n",
    "\n",
    "# Set up environment variables for API keys\n",
    "os.environ[\"LANGSMITH_TRACING\"] = \"true\"\n",
    "os.environ[\"LANGSMITH_API_KEY\"] = getpass.getpass(\"Enter LangSmith API Key: \")\n",
    "os.environ[\"GROQ_API_KEY\"] = getpass.getpass(\"Enter API key for Groq: \")\n",
    "\n",
    "# Initialize LLaMA 3 chat model for response generation\n",
    "llm = init_chat_model(\"llama3-8b-8192\", model_provider=\"groq\")"
   ]
  },
  {
   "cell_type": "code",
   "execution_count": 3,
   "id": "9fc0feed-a24b-4901-8f98-2e48d18b2d45",
   "metadata": {
    "scrolled": true
   },
   "outputs": [
    {
     "name": "stdout",
     "output_type": "stream",
     "text": [
      "Collecting en-core-web-sm==3.8.0\n",
      "  Downloading https://github.com/explosion/spacy-models/releases/download/en_core_web_sm-3.8.0/en_core_web_sm-3.8.0-py3-none-any.whl (12.8 MB)\n",
      "     ---------------------------------------- 0.0/12.8 MB ? eta -:--:--\n",
      "     --- ------------------------------------ 1.0/12.8 MB 5.6 MB/s eta 0:00:03\n",
      "     ------- -------------------------------- 2.4/12.8 MB 6.1 MB/s eta 0:00:02\n",
      "     ----------- ---------------------------- 3.7/12.8 MB 5.9 MB/s eta 0:00:02\n",
      "     ------------- -------------------------- 4.5/12.8 MB 5.7 MB/s eta 0:00:02\n",
      "     ----------------- ---------------------- 5.5/12.8 MB 5.3 MB/s eta 0:00:02\n",
      "     ------------------- -------------------- 6.3/12.8 MB 5.1 MB/s eta 0:00:02\n",
      "     ---------------------- ----------------- 7.3/12.8 MB 5.0 MB/s eta 0:00:02\n",
      "     -------------------------- ------------- 8.4/12.8 MB 5.0 MB/s eta 0:00:01\n",
      "     ----------------------------- ---------- 9.4/12.8 MB 5.0 MB/s eta 0:00:01\n",
      "     -------------------------------- ------- 10.5/12.8 MB 5.0 MB/s eta 0:00:01\n",
      "     ------------------------------------ --- 11.5/12.8 MB 5.0 MB/s eta 0:00:01\n",
      "     ---------------------------------------  12.6/12.8 MB 5.1 MB/s eta 0:00:01\n",
      "     ---------------------------------------- 12.8/12.8 MB 5.0 MB/s eta 0:00:00\n",
      "\u001b[38;5;2m[+] Download and installation successful\u001b[0m\n",
      "You can now load the package via spacy.load('en_core_web_sm')\n"
     ]
    },
    {
     "name": "stderr",
     "output_type": "stream",
     "text": [
      "C:\\Users\\User\\.anaconda\\.new\\Lib\\site-packages\\torch\\utils\\_pytree.py:185: FutureWarning: optree is installed but the version is too old to support PyTorch Dynamo in C++ pytree. C++ pytree support is disabled. Please consider upgrading optree using `python3 -m pip install --upgrade 'optree>=0.13.0'`.\n",
      "  warnings.warn(\n",
      "\n",
      "[notice] A new release of pip is available: 25.0 -> 25.0.1\n",
      "[notice] To update, run: python.exe -m pip install --upgrade pip\n"
     ]
    }
   ],
   "source": [
    "!python -m spacy download en_core_web_sm\n",
    "nlp = spacy.load(\"en_core_web_sm\")"
   ]
  },
  {
   "cell_type": "markdown",
   "id": "e552b862-c5c5-420a-aafc-270c2a78d4bf",
   "metadata": {},
   "source": [
    "- PDF Loading: The PDF file is loaded by PyMuPDFLoader, which retrieves text content from every page.\n",
    "- Text Cleaning: Unnecessary or blank spaces are eliminated to prevent processing of only relevant text.\n",
    "- Document Object Creation: Each of the cleaned text segments is translated into a Document object for processing.\n",
    "- Text Splitting: The text is split into smaller overlapping pieces (500 characters with 100 character overlap) using RecursiveCharacterTextSplitter so that the data can be embedded and retrieved while generating responses."
   ]
  },
  {
   "cell_type": "code",
   "execution_count": 4,
   "id": "cb7e7223-b457-430e-963b-1eb665acd0fd",
   "metadata": {},
   "outputs": [],
   "source": [
    "# Load and process PDF\n",
    "pdf_path = \"C:/Users/User/Downloads/c04b3e14-0919-4f9f-8064-5d2f5f2df99e_NLP_EXP.pdf\"  # Update path if needed\n",
    "loader = PyMuPDFLoader(pdf_path)\n",
    "docs = loader.load()\n",
    "cleaned_docs = [doc.page_content.strip() for doc in docs if doc.page_content]\n",
    "cleaned_documents = [Document(page_content=text) for text in cleaned_docs]\n",
    "\n",
    "# Split text into smaller chunks\n",
    "text_splitter = RecursiveCharacterTextSplitter(chunk_size=500, chunk_overlap=100)\n",
    "all_splits = text_splitter.split_documents(cleaned_documents)"
   ]
  },
  {
   "cell_type": "markdown",
   "id": "c306845a-c450-4c75-8ecd-2b3e92b0aa4c",
   "metadata": {},
   "source": [
    "- Embeddings Creation: HuggingFaceEmbeddings model (multi-qa-mpnet-base-dot-v1) maps text chunks into numerical vector forms.\n",
    "- Vector Store Initialization: The Chroma vector store is initialized to cache these embeddings for fast similarity search.\n",
    "- Document Addition: The divided documents (all_splits) are inserted into the vector store, allowing retrieval of meaningful text from user queries."
   ]
  },
  {
   "cell_type": "code",
   "execution_count": 5,
   "id": "bff46fbb-ffc2-41a1-9011-588819957128",
   "metadata": {
    "scrolled": true
   },
   "outputs": [
    {
     "name": "stderr",
     "output_type": "stream",
     "text": [
      "C:\\Users\\User\\AppData\\Local\\Temp\\ipykernel_12660\\1171632636.py:2: LangChainDeprecationWarning: The class `HuggingFaceEmbeddings` was deprecated in LangChain 0.2.2 and will be removed in 1.0. An updated version of the class exists in the :class:`~langchain-huggingface package and should be used instead. To use it run `pip install -U :class:`~langchain-huggingface` and import as `from :class:`~langchain_huggingface import HuggingFaceEmbeddings``.\n",
      "  embeddings = HuggingFaceEmbeddings(model_name=\"multi-qa-mpnet-base-dot-v1\")\n"
     ]
    },
    {
     "name": "stdout",
     "output_type": "stream",
     "text": [
      "WARNING:tensorflow:From C:\\Users\\User\\.anaconda\\.new\\Lib\\site-packages\\tf_keras\\src\\losses.py:2976: The name tf.losses.sparse_softmax_cross_entropy is deprecated. Please use tf.compat.v1.losses.sparse_softmax_cross_entropy instead.\n",
      "\n"
     ]
    },
    {
     "name": "stderr",
     "output_type": "stream",
     "text": [
      "C:\\Users\\User\\AppData\\Local\\Temp\\ipykernel_12660\\1171632636.py:3: LangChainDeprecationWarning: The class `Chroma` was deprecated in LangChain 0.2.9 and will be removed in 1.0. An updated version of the class exists in the :class:`~langchain-chroma package and should be used instead. To use it run `pip install -U :class:`~langchain-chroma` and import as `from :class:`~langchain_chroma import Chroma``.\n",
      "  vector_store = Chroma(embedding_function=embeddings)\n"
     ]
    },
    {
     "data": {
      "text/plain": [
       "['6f19f821-8b91-4c6e-9096-2755e2b2503f',\n",
       " 'b07c65a2-9de1-45fa-97db-c86add9f6e4e',\n",
       " '3d33fd32-42a0-42f1-8e0a-71273b9304ac',\n",
       " '59aba70d-414f-4592-9ed9-742d6b6cec37',\n",
       " 'ddbde104-e55d-4781-a229-be85d5e16248',\n",
       " '6ea9f57b-bef5-4acc-9d78-ac9035f1d3c1',\n",
       " 'a457c7be-920e-4946-b62b-449da5c2230e',\n",
       " 'e94cca42-ef4b-47e0-8901-082c94186232',\n",
       " 'feccba42-8a83-47b4-9eec-180c1ae2cebc',\n",
       " '08b416e2-917c-493c-b63b-d34c022d9d74',\n",
       " '0a32a224-4101-47a1-b6ab-b4340e49d9ba',\n",
       " 'aba91814-41cf-497e-b2ab-77ff80e3373f',\n",
       " '88da9a65-e1b0-49e1-8e41-449421022512',\n",
       " 'b1b12cfc-1fbb-4380-9dd0-02d3ad18b183',\n",
       " 'edc7e435-ebfb-468d-9b94-b8143f6f0281',\n",
       " '625b3265-0314-4451-aa1b-bc485b43130e',\n",
       " '920693f9-93eb-4fed-a217-e17dabba06ce',\n",
       " '6ad534dd-e38e-4609-bd3f-cd170bf1832b',\n",
       " '9de8dec3-ca0b-4eea-8ba7-459a0a75229f',\n",
       " '925442ba-c900-4cff-8232-4caebb7ca1e4',\n",
       " '39cd1174-c080-4447-81ef-63c3db4071f0',\n",
       " '0c1a0c2c-a8f8-42a0-b044-d9ac3d4b073a',\n",
       " '80dd0ca2-b4bb-4674-b939-647399d98362',\n",
       " '73b4c947-0f46-4298-abdb-e3f1b2757e30',\n",
       " '303bce9a-8d71-40f1-8fca-32c55b29fd98',\n",
       " 'ec0920a8-61c5-4631-b659-72ef24ecfc53',\n",
       " 'ff26889d-b418-42d2-b474-cfabc1772099',\n",
       " 'eae02df9-ec03-46d8-a854-fa8011c1f1c5',\n",
       " 'c150e722-f5fa-4f10-8fc5-46e42cac4b7c',\n",
       " '8f26e374-d263-4493-a70a-4f4bca3c4672',\n",
       " 'f7b7810b-1483-4182-8609-69b964e7573d',\n",
       " 'b39e4704-23c2-4299-ad9d-7c6dbacceeaf',\n",
       " '00386ef3-746d-44a6-9326-72d9a6ea2429',\n",
       " '045d6682-74b7-467c-87f0-d4bad90295c2',\n",
       " '3c5d08c0-47e4-42cf-ae67-4bb096dfb5d9',\n",
       " 'ef8d4445-85f1-4f37-a9f3-7514c1ca582f',\n",
       " '2c8897f7-36cf-4064-889e-d51268dc7f98',\n",
       " 'a363eae6-7927-4625-aaf2-ebb54b176600',\n",
       " 'c97cae8f-9a43-4355-81d8-b9ec290ffa65',\n",
       " 'ba380d69-82b2-4437-ab50-b26e315dadbc',\n",
       " '407e3751-79d1-4245-8778-52fd8cc0c057',\n",
       " '0da18d37-b32c-4ca3-b8a1-7a99fba5d191',\n",
       " '9a76e8cd-a37f-49ee-9637-bfdf424fa6b5',\n",
       " 'ba5d8a29-2ccf-4031-a03a-cc5145a0a9c9',\n",
       " '9ea5922b-995a-47af-9174-cabe399c3fb3',\n",
       " 'ad4779dc-7fe4-4271-a18e-acced0172f79',\n",
       " 'd2f5e543-8d73-4f49-adf7-3bfd2907b409',\n",
       " '6818146f-4fcb-42df-88ab-26340c6811b6',\n",
       " '329f43e5-77f8-4e92-af00-96de770e495c',\n",
       " '267d8b6e-96c3-420b-bc40-9186f86f6195',\n",
       " 'd6cf3a1e-3733-4713-9cc5-4af0609459e8',\n",
       " '2907f0d6-f6a0-4c44-9081-12368508c26b',\n",
       " 'd817dc7b-1916-4f2c-a701-517b8e976660',\n",
       " 'd58c9cfe-c2b1-45bf-b96d-93876696b32d',\n",
       " '9fd91992-ff39-4297-8992-1f625184eaa4',\n",
       " 'ef3b8964-9233-4416-9873-ea15acc8ed19',\n",
       " 'c60f863f-bbdd-4ddb-a280-77ea1dda6b7b',\n",
       " 'a1d2e645-c742-406f-b593-3580516f87c4',\n",
       " '6ccd93ef-639e-45d4-9e2f-fce085b81048',\n",
       " 'b3107042-75ae-42c4-a73d-e4329c970446',\n",
       " '67d53a5e-94ab-483c-a4d5-93760ecaf971',\n",
       " '01e13952-ea76-4661-9f13-4625f6977c31',\n",
       " '5002ce86-f920-48cf-b28a-efa7b2bbe818',\n",
       " 'e57c5fb1-f4ce-4232-848d-09fd66c657a9',\n",
       " '09375a7a-1669-4ebf-bc5c-4b3be703d416',\n",
       " 'a0841cad-6ee7-4cce-b69d-5a4c0af65ca6',\n",
       " '31c4c58d-157a-4418-9c3a-dd4061e6fc58',\n",
       " 'b36b28cd-6124-40bf-a408-98099cc61a57',\n",
       " '25ddff24-d883-424e-ae66-e5546fc21d04',\n",
       " '70e5e6a6-a947-4637-b469-226748ddbbde',\n",
       " '33dd5034-49e5-4a43-8ed2-289d095fdc4f',\n",
       " '50078ff0-22c5-437c-8831-7e11b41524e8',\n",
       " '11fe96d5-0a0d-4ae3-8aa0-b97dc86724c2',\n",
       " 'cf57abe9-5199-4459-9d70-13c69a1aff7e',\n",
       " '8c2fc571-8328-451e-84cc-1ebe7b16d5df',\n",
       " 'fee98cdb-9a5b-4939-9e49-801c58da4acf',\n",
       " 'f6540365-18de-4421-a4ed-9ca43510d535',\n",
       " '2e5dbb3a-dcba-4b01-bf3a-9d4374d70b65',\n",
       " 'd18f3b5d-333a-42fe-8b1d-20a5114aea30',\n",
       " '5fef3f5d-f650-4f92-95e2-d30dbdc5de95',\n",
       " '926c41dd-a9f1-4bf6-91c1-2b0d0f754635',\n",
       " '728944aa-f784-4514-a19f-640ce804913b',\n",
       " '0c0f111b-1386-4325-8393-6278e72168b3',\n",
       " 'c21381e1-2c62-4705-81df-7eb8dac42da7',\n",
       " '250cf9c0-d2bb-47a0-bbbe-8e3d2ca2d63f',\n",
       " 'e52bb595-f5c2-4e91-91b8-e64844a8f616',\n",
       " '0cbb72dc-4a2f-46de-ab47-ed671472b7d3',\n",
       " 'e75339c4-b4d2-4097-ab3d-7f701c9d5bc8',\n",
       " '1399870a-74d6-49ea-bda7-7f038316be75',\n",
       " 'c4597512-3bb7-4360-b13b-0fd2c38454f1',\n",
       " 'dc734515-4ed7-4e80-ac3a-a350ad1e256a',\n",
       " '99350bc7-2469-459c-aa61-7e1dc9c29a50',\n",
       " 'c4c68ad3-8208-4e1d-8af7-f1d5a292e454',\n",
       " 'c6df0a58-97d3-4f8f-a2fc-6f50bf32f239',\n",
       " '81f188c1-2838-4e44-91ce-41ef6f9e8598',\n",
       " '2bdf7ff5-24cb-478f-9e9d-6c7ee54f149c',\n",
       " '4d465fd5-ea36-4e46-a365-10a347f1a450',\n",
       " '581ad953-7a41-4868-9ba9-30e1c7b42127',\n",
       " 'dd99b229-a868-42da-91cb-f1007751b3c3',\n",
       " '26772e67-c83c-4653-94ad-c97d02a7f3b5']"
      ]
     },
     "execution_count": 5,
     "metadata": {},
     "output_type": "execute_result"
    }
   ],
   "source": [
    "# Create embeddings and vector store\n",
    "embeddings = HuggingFaceEmbeddings(model_name=\"multi-qa-mpnet-base-dot-v1\")\n",
    "vector_store = Chroma(embedding_function=embeddings)\n",
    "vector_store.add_documents(documents=all_splits)"
   ]
  },
  {
   "cell_type": "markdown",
   "id": "2c8c347e-75d4-4bd3-8ee8-e440cdb5ad27",
   "metadata": {},
   "source": [
    "- Function Purpose: The function detect_errors_in_documents detects documents that can potentially contain errors or out-of-date information.\n",
    "- Logic Applied: It looks for the existence of some keywords such as \"2019\", \"outdated\", \"incorrect\", or \"not verified\" in the document text.\n",
    "- Output: Documents containing any of these terms are flagged and added to the error_docs list for further correction."
   ]
  },
  {
   "cell_type": "code",
   "execution_count": 6,
   "id": "ffa4d381-eabe-41be-af82-a30f733c3b58",
   "metadata": {},
   "outputs": [],
   "source": [
    "# Function for Detecting Errors in Retrieved Documents\n",
    "def detect_errors_in_documents(docs):\n",
    "    \"\"\"Detect potential errors or outdated information in documents.\"\"\"\n",
    "    error_docs = []\n",
    "    for doc in docs:\n",
    "        if any(term in doc.page_content.lower() for term in [\"2019\", \"outdated\", \"incorrect\", \"not verified\"]):\n",
    "            error_docs.append(doc)\n",
    "    return error_docs"
   ]
  },
  {
   "cell_type": "markdown",
   "id": "da56b966-fec8-4497-8a03-63387d0b248c",
   "metadata": {},
   "source": [
    "- Function Purpose: The correct_information function automatically corrects the old or wrong information in the documents retrieved.\n",
    "- Logic Applied: It substitutes specific words:\n",
    "\"2019\" → \"2023\"\n",
    "\"outdated\" → \"updated\"\n",
    "\"incorrect\" → \"verified\"\n",
    "- Output: The corrected text is kept in a new list named corrected_docs for further processing."
   ]
  },
  {
   "cell_type": "code",
   "execution_count": 7,
   "id": "9d9e2601-67ae-4fdc-a3b7-c99a161ad46c",
   "metadata": {},
   "outputs": [],
   "source": [
    "# Function for Correcting Information\n",
    "def correct_information(docs):\n",
    "    \"\"\"Correct information in retrieved documents.\"\"\"\n",
    "    corrected_docs = []\n",
    "    for doc in docs:\n",
    "        corrected_text = (doc.page_content\n",
    "                          .replace(\"2019\", \"2023\")\n",
    "                          .replace(\"outdated\", \"updated\")\n",
    "                          .replace(\"incorrect\", \"verified\"))\n",
    "        corrected_docs.append(Document(page_content=corrected_text))\n",
    "    return corrected_docs"
   ]
  },
  {
   "cell_type": "markdown",
   "id": "bd4c73b5-2126-4802-b9ac-8369c8378718",
   "metadata": {},
   "source": [
    "- Function Purpose: The function retrieve_and_correct_documents fetches suitable documents from the vector store against the user query.\n",
    "- Error Detection: It identifies potential errors through the detect_errors_in_documents function.\n",
    "- Correction Process: The documents are corrected automatically upon the detection of errors using the correct_information function.\n",
    "- The function gives back corrected or original documents based on whether or not there were errors."
   ]
  },
  {
   "cell_type": "code",
   "execution_count": 8,
   "id": "a3751cae-9fea-4800-a3e5-48cfea12af22",
   "metadata": {},
   "outputs": [],
   "source": [
    "# Function to Retrieve and Correct Documents\n",
    "def retrieve_and_correct_documents(query, vector_store):\n",
    "    \"\"\"Retrieve documents and correct information if needed.\"\"\"\n",
    "    retrieved_docs = vector_store.similarity_search(query, k=5)\n",
    "    error_docs = detect_errors_in_documents(retrieved_docs)\n",
    "\n",
    "    if error_docs:\n",
    "        print(\"\\n🔹 Detected potential errors in retrieved documents. Correcting...\")\n",
    "        corrected_docs = correct_information(retrieved_docs)\n",
    "    else:\n",
    "        corrected_docs = retrieved_docs\n",
    "\n",
    "    return corrected_docs"
   ]
  },
  {
   "cell_type": "markdown",
   "id": "2295ab3f-d5a3-4aa2-ad3d-99162d374d6a",
   "metadata": {},
   "source": [
    "- Function Purpose: The handle_query function handles user queries with the corrective RAG system.\n",
    "- Document Retrieval and Correction: It invokes the retrieve_and_correct_documents function to retrieve and correct documents when necessary.\n",
    "- Message Formatting: The information obtained is formatted into messages based on HumanMessage and SystemMessage schemas.\n",
    "- Response Generation: The structured messages are forwarded to the LLaMA 3 model, which creates the final response based on improved information."
   ]
  },
  {
   "cell_type": "code",
   "execution_count": 12,
   "id": "a0e644bb-43c5-4465-80ac-a19c5edd1465",
   "metadata": {},
   "outputs": [],
   "source": [
    "# Import necessary schema for message formatting\n",
    "from langchain.schema import HumanMessage, SystemMessage\n",
    "\n",
    "# Improved Query Handling with Correction\n",
    "def handle_query(query, vector_store):\n",
    "    \"\"\"Handle user queries with corrective RAG.\"\"\"\n",
    "    corrected_docs = retrieve_and_correct_documents(query, vector_store)\n",
    "    doc_texts = \"\\n\".join([doc.page_content for doc in corrected_docs])\n",
    "\n",
    "    # Prepare messages in the correct format for LLaMA 3\n",
    "    messages = [\n",
    "        SystemMessage(content=\"You are a helpful assistant that corrects outdated information.\"),\n",
    "        HumanMessage(content=f\"User: {query}\\nRelevant Info: {doc_texts}\\nBot:\")\n",
    "    ]\n",
    "\n",
    "    # Generate response using LLaMA 3 with corrected format\n",
    "    response = llm.invoke(messages)\n",
    "\n",
    "    return response"
   ]
  },
  {
   "cell_type": "code",
   "execution_count": 13,
   "id": "072e60b0-c50a-45a9-81d1-f6c4a2bb3a16",
   "metadata": {
    "scrolled": true
   },
   "outputs": [
    {
     "name": "stdout",
     "output_type": "stream",
     "text": [
      "🔹 Query 1:\n",
      "Which are the top states for tourism in India?\n",
      "🔹 Response:\n",
      " content='According to the latest available data, the top states for tourism in India in 2022 are:\\n\\n1. Uttar Pradesh - 317.91 million domestic tourist visits (18.37% share)\\n2. Tamil Nadu - 218.58 million domestic tourist visits (12.63% share)\\n3. Andhra Pradesh - 192.72 million domestic tourist visits (11.13% share)\\n4. Karnataka - 182.41 million domestic tourist visits (10.54% share)\\n5. Gujarat - 135.81 million domestic tourist visits (7.85% share)\\n\\nPlease note that these figures are based on 2022 data, and the numbers may have changed since then.' additional_kwargs={} response_metadata={'token_usage': {'completion_tokens': 142, 'prompt_tokens': 750, 'total_tokens': 892, 'completion_time': 0.118333333, 'prompt_time': 0.140527242, 'queue_time': 0.020405167000000002, 'total_time': 0.258860575}, 'model_name': 'llama3-8b-8192', 'system_fingerprint': 'fp_179b0f92c9', 'finish_reason': 'stop', 'logprobs': None} id='run-ed600efd-6600-4320-b766-9acd6411277a-0' usage_metadata={'input_tokens': 750, 'output_tokens': 142, 'total_tokens': 892}\n",
      "\n",
      "================================================================================\n",
      "\n",
      "🔹 Query 2:\n",
      "Which festivals are celebrated in Maharashtra?\n",
      "🔹 Response:\n",
      " content=\"I'd be happy to help you with that!\\n\\nMaharashtra has many festivals that are worth celebrating. Some of the major festivals in Maharashtra include:\\n\\n1. Ganesh Chaturthi (August/September): A ten-day festival celebrating Lord Ganesha with processions, music, and dance.\\n2. Gudi Padwa (March/April): Marathi New Year marked by processions, cultural performances, and festive celebrations.\\n\\nThese festivals are an integral part of the cultural heritage of Maharashtra and are celebrated with great enthusiasm and fervor.\" additional_kwargs={} response_metadata={'token_usage': {'completion_tokens': 112, 'prompt_tokens': 495, 'total_tokens': 607, 'completion_time': 0.093333333, 'prompt_time': 0.078420836, 'queue_time': 0.022286488000000007, 'total_time': 0.171754169}, 'model_name': 'llama3-8b-8192', 'system_fingerprint': 'fp_6a6771ae9c', 'finish_reason': 'stop', 'logprobs': None} id='run-fd2d7d93-f02a-42fc-9b09-95e9ee606bd1-0' usage_metadata={'input_tokens': 495, 'output_tokens': 112, 'total_tokens': 607}\n",
      "\n",
      "================================================================================\n",
      "\n",
      "🔹 Query 3:\n",
      "Best time to visit Rajasthan\n",
      "🔹 Response:\n",
      " content=\"I've corrected the outdated information for you! 😊\\n\\nThe original text mentioned that Rajasthan's Peak Season is from October to March, and Off-Peak Season is from April to September. However, it's essential to note that the best time to visit Rajasthan has changed slightly.\\n\\nAccording to the latest information, the Peak Season in Rajasthan is still from October to March, but the Off-Peak Season has been updated to June to September. This is because the summer heat in Rajasthan can be quite extreme, making it challenging for tourists to explore the region comfortably.\\n\\nThe rest of the information remains the same, including the major festivals and their impact on travel. The Pushkar Camel Fair in November and the Jaipur Literature Festival in January are still significant events, and it's recommended to book accommodations early to avoid the surge in tourists.\\n\\nI hope this correction helps you plan your trip to Rajasthan better! 🏞️\" additional_kwargs={} response_metadata={'token_usage': {'completion_tokens': 186, 'prompt_tokens': 593, 'total_tokens': 779, 'completion_time': 0.155, 'prompt_time': 0.132993585, 'queue_time': 0.020882485000000006, 'total_time': 0.287993585}, 'model_name': 'llama3-8b-8192', 'system_fingerprint': 'fp_179b0f92c9', 'finish_reason': 'stop', 'logprobs': None} id='run-6b68145e-d548-4554-82af-0be744c28c31-0' usage_metadata={'input_tokens': 593, 'output_tokens': 186, 'total_tokens': 779}\n",
      "\n",
      "================================================================================\n",
      "\n",
      "🔹 Query 4:\n",
      "What language is spoken in Kerala?\n",
      "🔹 Response:\n",
      " content='The information provided is outdated. Kerala is a state in southwestern India, and the languages spoken there are Malayalam, English, and Tamil, not Hindi, Pahari, and Punjabi. The cultural festivals mentioned in the information are also not accurate. The correct cultural festivals celebrated in Kerala are Onam, Thrissur Pooram, and Nehru Trophy Boat Race.' additional_kwargs={} response_metadata={'token_usage': {'completion_tokens': 76, 'prompt_tokens': 499, 'total_tokens': 575, 'completion_time': 0.063333333, 'prompt_time': 0.063579103, 'queue_time': 0.01840962, 'total_time': 0.126912436}, 'model_name': 'llama3-8b-8192', 'system_fingerprint': 'fp_6a6771ae9c', 'finish_reason': 'stop', 'logprobs': None} id='run-c7e88592-4e43-4475-810c-5359bca63578-0' usage_metadata={'input_tokens': 499, 'output_tokens': 76, 'total_tokens': 575}\n",
      "\n",
      "================================================================================\n",
      "\n",
      "🔹 Query 5:\n",
      "Tell me about foreign tourist visits in 2023\n",
      "🔹 Response:\n",
      " content=\"I'm happy to help! However, I must correct you that the information you provided is outdated. The data on foreign tourist visits in 2023 is not publicly available yet, as the year has not ended.\\n\\nBut, if you're looking for information on domestic tourist visits in India, I can provide you with the latest data. According to the Ministry of Tourism, India, the total number of domestic tourist visits in 2022 was approximately 783.7 million, marking a 12.4% increase from 696.1 million visits in 2021.\\n\\nAs for the top states by domestic tourist visits in 2022, the ranking remains the same as in 2021, with Uttar Pradesh leading the list, followed by Tamil Nadu, Andhra Pradesh, Karnataka, Gujarat, and Maharashtra.\\n\\nRegarding foreign tourist visits, the Ministry of Tourism, India, reports that the country received approximately 11.9 million foreign tourist arrivals in 2022, a 14.4% increase from 10.4 million visits in 2021.\\n\\nIf you're looking for more information on tourist destinations, safety tips, languages, cultural festivals, and local cuisine, I can provide you with that as well. Just let me know!\" additional_kwargs={} response_metadata={'token_usage': {'completion_tokens': 251, 'prompt_tokens': 643, 'total_tokens': 894, 'completion_time': 0.209166667, 'prompt_time': 0.106692884, 'queue_time': 0.02822330699999999, 'total_time': 0.315859551}, 'model_name': 'llama3-8b-8192', 'system_fingerprint': 'fp_a97cfe35ae', 'finish_reason': 'stop', 'logprobs': None} id='run-99578fab-b420-4ff9-b062-60e82a550e7b-0' usage_metadata={'input_tokens': 643, 'output_tokens': 251, 'total_tokens': 894}\n",
      "\n",
      "================================================================================\n",
      "\n",
      "🔹 Query 6:\n",
      "Tell me about tourism growth in 2019.\n",
      "🔹 Response:\n",
      " content=\"I think there's been a mistake! You're asking about tourism growth in 2019, but the information provided is actually about 2021 and 2022. Additionally, the data you provided is about domestic tourism in India, not international tourism.\\n\\nTo answer your question, I couldn't find any reliable sources that report tourism growth in 2019. However, I can tell you that the World Tourism Organization (UNWTO) reported that international tourist arrivals grew by 3.8% in 2019, reaching 1.5 billion. But this is not specific to India.\\n\\nIf you're looking for information on Indian tourism, I can provide you with the correct data from 2021 and 2022, which shows an 11.05% increase in domestic tourist visits to various states and Union Territories in India, reaching approximately 677.6 million visits in 2021.\" additional_kwargs={} response_metadata={'token_usage': {'completion_tokens': 183, 'prompt_tokens': 561, 'total_tokens': 744, 'completion_time': 0.1525, 'prompt_time': 0.113414775, 'queue_time': 0.019158306000000014, 'total_time': 0.265914775}, 'model_name': 'llama3-8b-8192', 'system_fingerprint': 'fp_6a6771ae9c', 'finish_reason': 'stop', 'logprobs': None} id='run-7c0b0bfc-c126-4e00-a976-b4bd5b3692d7-0' usage_metadata={'input_tokens': 561, 'output_tokens': 183, 'total_tokens': 744}\n",
      "\n",
      "================================================================================\n",
      "\n"
     ]
    }
   ],
   "source": [
    "# Example Queries Demonstrating Corrective RAG\n",
    "queries = [\n",
    "    \"Which are the top states for tourism in India?\",\n",
    "    \"Which festivals are celebrated in Maharashtra?\",\n",
    "    \"Best time to visit Rajasthan\",\n",
    "    \"What language is spoken in Kerala?\",\n",
    "    \"Tell me about foreign tourist visits in 2023\",\n",
    "    \"Tell me about tourism growth in 2019.\"\n",
    "]\n",
    "\n",
    "# Run all example queries\n",
    "for i, query in enumerate(queries, 1):\n",
    "    print(f\"🔹 Query {i}:\\n{query}\")\n",
    "    print(\"🔹 Response:\\n\", handle_query(query, vector_store))\n",
    "    print(\"\\n\" + \"=\" * 80 + \"\\n\")"
   ]
  }
 ],
 "metadata": {
  "kernelspec": {
   "display_name": "Python 3 (ipykernel)",
   "language": "python",
   "name": "python3"
  },
  "language_info": {
   "codemirror_mode": {
    "name": "ipython",
    "version": 3
   },
   "file_extension": ".py",
   "mimetype": "text/x-python",
   "name": "python",
   "nbconvert_exporter": "python",
   "pygments_lexer": "ipython3",
   "version": "3.12.3"
  }
 },
 "nbformat": 4,
 "nbformat_minor": 5
}
